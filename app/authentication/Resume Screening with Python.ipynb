{
 "cells": [
  {
   "cell_type": "code",
   "execution_count": 1,
   "id": "dd4001d1",
   "metadata": {},
   "outputs": [],
   "source": [
    "import numpy as np\n",
    "import pandas as pd\n",
    "import matplotlib.pyplot as plt\n",
    "import seaborn as sns"
   ]
  },
  {
   "cell_type": "code",
   "execution_count": 2,
   "id": "7f5bc96c",
   "metadata": {},
   "outputs": [],
   "source": [
    "df = pd.read_csv('../static/dataset/merged_data.csv')"
   ]
  },
  {
   "cell_type": "code",
   "execution_count": 3,
   "id": "5cff7568",
   "metadata": {},
   "outputs": [
    {
     "data": {
      "text/html": [
       "<div>\n",
       "<style scoped>\n",
       "    .dataframe tbody tr th:only-of-type {\n",
       "        vertical-align: middle;\n",
       "    }\n",
       "\n",
       "    .dataframe tbody tr th {\n",
       "        vertical-align: top;\n",
       "    }\n",
       "\n",
       "    .dataframe thead th {\n",
       "        text-align: right;\n",
       "    }\n",
       "</style>\n",
       "<table border=\"1\" class=\"dataframe\">\n",
       "  <thead>\n",
       "    <tr style=\"text-align: right;\">\n",
       "      <th></th>\n",
       "      <th>Unnamed: 0</th>\n",
       "      <th>resume</th>\n",
       "      <th>category</th>\n",
       "    </tr>\n",
       "  </thead>\n",
       "  <tbody>\n",
       "    <tr>\n",
       "      <th>0</th>\n",
       "      <td>0</td>\n",
       "      <td>\\nContact\\nwww.linkedin.com/in/mansoor-\\nah...</td>\n",
       "      <td>Accountant</td>\n",
       "    </tr>\n",
       "    <tr>\n",
       "      <th>1</th>\n",
       "      <td>1</td>\n",
       "      <td>\\nContact\\nwww.linkedin.com/in/syed-\\nali-a...</td>\n",
       "      <td>Accountant</td>\n",
       "    </tr>\n",
       "    <tr>\n",
       "      <th>2</th>\n",
       "      <td>2</td>\n",
       "      <td>\\nContact\\nwww.linkedin.com/in/babar-\\nkhan...</td>\n",
       "      <td>Accountant</td>\n",
       "    </tr>\n",
       "    <tr>\n",
       "      <th>3</th>\n",
       "      <td>3</td>\n",
       "      <td>\\nContact\\nwww.linkedin.com/in/asra-\\nhamid...</td>\n",
       "      <td>Accountant</td>\n",
       "    </tr>\n",
       "    <tr>\n",
       "      <th>4</th>\n",
       "      <td>4</td>\n",
       "      <td>\\nContact\\nwww.linkedin.com/in/umair-azam-\\...</td>\n",
       "      <td>Accountant</td>\n",
       "    </tr>\n",
       "  </tbody>\n",
       "</table>\n",
       "</div>"
      ],
      "text/plain": [
       "   Unnamed: 0                                             resume    category\n",
       "0           0     \\nContact\\nwww.linkedin.com/in/mansoor-\\nah...  Accountant\n",
       "1           1     \\nContact\\nwww.linkedin.com/in/syed-\\nali-a...  Accountant\n",
       "2           2     \\nContact\\nwww.linkedin.com/in/babar-\\nkhan...  Accountant\n",
       "3           3     \\nContact\\nwww.linkedin.com/in/asra-\\nhamid...  Accountant\n",
       "4           4     \\nContact\\nwww.linkedin.com/in/umair-azam-\\...  Accountant"
      ]
     },
     "execution_count": 3,
     "metadata": {},
     "output_type": "execute_result"
    }
   ],
   "source": [
    "df.head()"
   ]
  },
  {
   "cell_type": "code",
   "execution_count": 4,
   "id": "f95a6d9d",
   "metadata": {},
   "outputs": [
    {
     "data": {
      "text/plain": [
       "(498, 3)"
      ]
     },
     "execution_count": 4,
     "metadata": {},
     "output_type": "execute_result"
    }
   ],
   "source": [
    "df.shape"
   ]
  },
  {
   "cell_type": "markdown",
   "id": "e6bd2eec",
   "metadata": {},
   "source": [
    "# Exploring Categories"
   ]
  },
  {
   "cell_type": "code",
   "execution_count": 5,
   "id": "7ededc57",
   "metadata": {},
   "outputs": [
    {
     "data": {
      "text/plain": [
       "category\n",
       "Human Resource               100\n",
       "Accountant                    92\n",
       "Administration                89\n",
       "Machine Learning Engineer     82\n",
       "Data Scientist                79\n",
       "Data Engineer                 56\n",
       "Name: count, dtype: int64"
      ]
     },
     "execution_count": 5,
     "metadata": {},
     "output_type": "execute_result"
    }
   ],
   "source": [
    "df['category'].value_counts()"
   ]
  },
  {
   "cell_type": "code",
   "execution_count": 6,
   "id": "c185808b",
   "metadata": {},
   "outputs": [],
   "source": [
    "# plt.figure(figsize=(15,5))\n",
    "# sns.countplot(df['category'])\n",
    "# plt.xticks(rotation=90)\n",
    "# plt.show()"
   ]
  },
  {
   "cell_type": "code",
   "execution_count": 7,
   "id": "f1ef8a11",
   "metadata": {},
   "outputs": [
    {
     "data": {
      "text/plain": [
       "array(['Accountant', 'Administration', 'Data Engineer', 'Data Scientist',\n",
       "       'Human Resource', 'Machine Learning Engineer'], dtype=object)"
      ]
     },
     "execution_count": 7,
     "metadata": {},
     "output_type": "execute_result"
    }
   ],
   "source": [
    "df['category'].unique()"
   ]
  },
  {
   "cell_type": "code",
   "execution_count": 8,
   "id": "0d340e85",
   "metadata": {},
   "outputs": [
    {
     "data": {
      "image/png": "[encoded data removed]",
      "text/plain": [
       "<Figure size 1500x1000 with 1 Axes>"
      ]
     },
     "metadata": {},
     "output_type": "display_data"
    }
   ],
   "source": [
    "counts = df['category'].value_counts()\n",
    "labels = df['category'].unique()\n",
    "plt.figure(figsize=(15,10))\n",
    "\n",
    "plt.pie(counts,labels=labels,autopct='%1.1f%%',shadow=True, colors=plt.cm.plasma(np.linspace(0,1,3)))\n",
    "plt.show()"
   ]
  },
  {
   "cell_type": "markdown",
   "id": "6f5ef849",
   "metadata": {},
   "source": [
    "# Exploring Resume"
   ]
  },
  {
   "cell_type": "code",
   "execution_count": 9,
   "id": "8a97c061",
   "metadata": {},
   "outputs": [
    {
     "data": {
      "text/plain": [
       "'Accountant'"
      ]
     },
     "execution_count": 9,
     "metadata": {},
     "output_type": "execute_result"
    }
   ],
   "source": [
    "df['category'][0]"
   ]
  },
  {
   "cell_type": "code",
   "execution_count": 10,
   "id": "66bc53d7",
   "metadata": {},
   "outputs": [
    {
     "data": {
      "text/plain": [
       "'\\xa0 \\xa0\\nContact\\nwww.linkedin.com/in/mansoor-\\nahmad123  (LinkedIn)\\nTop Skills\\nMonthly Sales tax submission\\nBigCommerce\\ndeposcoMansoor Ahmad - ACMA,\\nAPFA\\nAccountant\\nLahore, Punjab, Pakistan\\nSummary\\nExperienced Finance/Accounts Payable Executive skilled in Finance/\\nTreasury and accounts functions. Qualified professional from\\nInstitute of Cost and Management Accountants of Pakistan (ICMA\\nPakistan).\\nExperience\\nAHU Technologies Inc\\nAccountant\\nMay 2023\\xa0-\\xa0September 2023\\xa0 (5 months)\\nLahore, Punjab, Pakistan\\nVision Village\\nAccountant\\nNovember 2022\\xa0-\\xa0May 2023\\xa0 (7 months)\\nLahore\\nRupali Polyester Limited\\nAssistant Treasury Manager\\nApril 2022\\xa0-\\xa0November 2022\\xa0 (8 months)\\nLahore, Punjab, Pakistan\\nService Industries Limited\\nFinance Officer\\nAugust 2020\\xa0-\\xa0March 2022\\xa0 (1 year 8 months)\\nLahore District, Punjab, Pakistan\\nService Industries Limited\\nIntern\\nOctober 2019\\xa0-\\xa0March 2020\\xa0 (6 months)\\nGulberg 2, Lahore, Pakistan\\nAccounts Payable Intern\\n\\xa0 Page 1 of 2\\xa0 \\xa0\\nEducation\\nInstitute of Cost and Management Accountants of Pakistan (ICMA\\nPakistan)\\nAccounting and Business/Management \\xa0·\\xa0(2017\\xa0-\\xa02021)\\n\\xa0 Page 2 of 2'"
      ]
     },
     "execution_count": 10,
     "metadata": {},
     "output_type": "execute_result"
    }
   ],
   "source": [
    "df['resume'][0]"
   ]
  },
  {
   "cell_type": "markdown",
   "id": "639b4549",
   "metadata": {},
   "source": []
  },
  {
   "cell_type": "markdown",
   "id": "55e4d0de",
   "metadata": {},
   "source": [
    "# Cleaning Data:                                      \n",
    "1 URLs,                                                \n",
    "2 hashtags,                                             \n",
    "3 mentions,                                                     \n",
    "4 special letters,                                             \n",
    "5 punctuations:                                             "
   ]
  },
  {
   "cell_type": "code",
   "execution_count": 11,
   "id": "16656511",
   "metadata": {},
   "outputs": [],
   "source": [
    "import re\n",
    "def cleanResume(txt):\n",
    "    cleanText = re.sub('http\\S+\\s', ' ', txt)\n",
    "    cleanText = re.sub('RT|cc', ' ', cleanText)\n",
    "    cleanText = re.sub('#\\S+\\s', ' ', cleanText)\n",
    "    cleanText = re.sub('@\\S+', '  ', cleanText)  \n",
    "    cleanText = re.sub('[%s]' % re.escape(\"\"\"!\"#$%&'()*+,-./:;<=>?@[\\]^_`{|}~\"\"\"), ' ', cleanText)\n",
    "    cleanText = re.sub(r'[^\\x00-\\x7f]', ' ', cleanText) \n",
    "    cleanText = re.sub('\\s+', ' ', cleanText)\n",
    "    return cleanText"
   ]
  },
  {
   "cell_type": "code",
   "execution_count": 12,
   "id": "8b2c86ba",
   "metadata": {},
   "outputs": [
    {
     "data": {
      "text/plain": [
       "'my webiste like is this and a ess it '"
      ]
     },
     "execution_count": 12,
     "metadata": {},
     "output_type": "execute_result"
    }
   ],
   "source": [
    "cleanResume(\"my #### $ #  #noorsaeed webiste like is this http://heloword and access it @gmain.com\")"
   ]
  },
  {
   "cell_type": "code",
   "execution_count": 13,
   "id": "e752795a",
   "metadata": {},
   "outputs": [],
   "source": [
    "df['resume'] = df['resume'].apply(lambda x: cleanResume(x))"
   ]
  },
  {
   "cell_type": "code",
   "execution_count": 14,
   "id": "ba537207",
   "metadata": {},
   "outputs": [
    {
     "data": {
      "text/plain": [
       "' Contact www linkedin com in mansoor ahmad123 LinkedIn Top Skills Monthly Sales tax submission BigCommerce deposcoMansoor Ahmad ACMA APFA A ountant Lahore Punjab Pakistan Summary Experienced Finance A ounts Payable Executive skilled in Finance Treasury and a ounts functions Qualified professional from Institute of Cost and Management A ountants of Pakistan ICMA Pakistan Experience AHU Technologies Inc A ountant May 2023 September 2023 5 months Lahore Punjab Pakistan Vision Village A ountant November 2022 May 2023 7 months Lahore Rupali Polyester Limited Assistant Treasury Manager April 2022 November 2022 8 months Lahore Punjab Pakistan Service Industries Limited Finance Officer August 2020 March 2022 1 year 8 months Lahore District Punjab Pakistan Service Industries Limited Intern October 2019 March 2020 6 months Gulberg 2 Lahore Pakistan A ounts Payable Intern Page 1 of 2 Education Institute of Cost and Management A ountants of Pakistan ICMA Pakistan A ounting and Business Management 2017 2021 Page 2 of 2'"
      ]
     },
     "execution_count": 14,
     "metadata": {},
     "output_type": "execute_result"
    }
   ],
   "source": [
    "df['resume'][0]"
   ]
  },
  {
   "cell_type": "markdown",
   "id": "9034b60c",
   "metadata": {},
   "source": [
    "# words into categorical values"
   ]
  },
  {
   "cell_type": "code",
   "execution_count": 15,
   "id": "72994ec0",
   "metadata": {},
   "outputs": [],
   "source": [
    "from sklearn.preprocessing import LabelEncoder\n",
    "le = LabelEncoder()"
   ]
  },
  {
   "cell_type": "code",
   "execution_count": 16,
   "id": "af36ab05",
   "metadata": {},
   "outputs": [],
   "source": [
    "le.fit(df['category'])\n",
    "df['category'] = le.transform(df['category'])"
   ]
  },
  {
   "cell_type": "code",
   "execution_count": 17,
   "id": "0c4bd0dc",
   "metadata": {},
   "outputs": [
    {
     "data": {
      "text/plain": [
       "array([0, 1, 2, 3, 4, 5])"
      ]
     },
     "execution_count": 17,
     "metadata": {},
     "output_type": "execute_result"
    }
   ],
   "source": [
    "df.category.unique()"
   ]
  },
  {
   "cell_type": "code",
   "execution_count": 18,
   "id": "3c915950",
   "metadata": {},
   "outputs": [],
   "source": [
    "# ['Data Science', 'HR', 'Advocate', 'Arts', 'Web Designing',\n",
    "#        'Mechanical Engineer', 'Sales', 'Health and fitness',\n",
    "#        'Civil Engineer', 'Java Developer', 'Business Analyst',\n",
    "#        'SAP Developer', 'Automation Testing', 'Electrical Engineering',\n",
    "#        'Operations Manager', 'Python Developer', 'DevOps Engineer',\n",
    "#        'Network Security Engineer', 'PMO', 'Database', 'Hadoop',\n",
    "#        'ETL Developer', 'DotNet Developer', 'Blockchain', 'Testing'],\n",
    "#       dtype=object)"
   ]
  },
  {
   "cell_type": "markdown",
   "id": "2a65059b",
   "metadata": {},
   "source": [
    "# Vactorization"
   ]
  },
  {
   "cell_type": "code",
   "execution_count": 19,
   "id": "d0e3603a",
   "metadata": {},
   "outputs": [],
   "source": [
    "from sklearn.feature_extraction.text import TfidfVectorizer\n",
    "tfidf = TfidfVectorizer(stop_words='english')\n",
    "\n",
    "tfidf.fit(df['resume'])\n",
    "requredTaxt  = tfidf.transform(df['resume'])"
   ]
  },
  {
   "cell_type": "code",
   "execution_count": null,
   "id": "7d911c1a",
   "metadata": {},
   "outputs": [],
   "source": []
  },
  {
   "cell_type": "markdown",
   "id": "63d3c383",
   "metadata": {},
   "source": [
    "# Splitting"
   ]
  },
  {
   "cell_type": "code",
   "execution_count": 20,
   "id": "0f67afa8",
   "metadata": {},
   "outputs": [],
   "source": [
    "from sklearn.model_selection import train_test_split"
   ]
  },
  {
   "cell_type": "code",
   "execution_count": 21,
   "id": "ab60004d",
   "metadata": {},
   "outputs": [],
   "source": [
    "X_train, X_test, y_train, y_test = train_test_split(requredTaxt, df['category'], test_size=0.2, random_state=42)"
   ]
  },
  {
   "cell_type": "code",
   "execution_count": 22,
   "id": "8d542f0f",
   "metadata": {},
   "outputs": [
    {
     "data": {
      "text/plain": [
       "(398, 10759)"
      ]
     },
     "execution_count": 22,
     "metadata": {},
     "output_type": "execute_result"
    }
   ],
   "source": [
    "X_train.shape"
   ]
  },
  {
   "cell_type": "code",
   "execution_count": 23,
   "id": "bc6048f4",
   "metadata": {},
   "outputs": [
    {
     "data": {
      "text/plain": [
       "(100, 10759)"
      ]
     },
     "execution_count": 23,
     "metadata": {},
     "output_type": "execute_result"
    }
   ],
   "source": [
    "X_test.shape"
   ]
  },
  {
   "cell_type": "markdown",
   "id": "e06b1be4",
   "metadata": {},
   "source": [
    "# Now let’s train the model and print the classification report:"
   ]
  },
  {
   "cell_type": "code",
   "execution_count": 24,
   "id": "d24938b1",
   "metadata": {},
   "outputs": [
    {
     "name": "stdout",
     "output_type": "stream",
     "text": [
      "0.77\n"
     ]
    }
   ],
   "source": [
    "from sklearn.neighbors import KNeighborsClassifier\n",
    "from sklearn.multiclass import OneVsRestClassifier\n",
    "from sklearn.metrics import accuracy_score\n",
    "\n",
    "clf = OneVsRestClassifier(KNeighborsClassifier())\n",
    "clf.fit(X_train,y_train)\n",
    "ypred = clf.predict(X_test)\n",
    "print(accuracy_score(y_test,ypred))"
   ]
  },
  {
   "cell_type": "code",
   "execution_count": 25,
   "id": "aa41007d",
   "metadata": {},
   "outputs": [
    {
     "data": {
      "text/plain": [
       "array([5, 0, 2, 1, 3, 5, 0, 0, 4, 0, 4, 3, 4, 3, 1, 1, 5, 0, 0, 5, 3, 2,\n",
       "       5, 1, 0, 1, 4, 5, 0, 0, 5, 1, 1, 0, 4, 1, 3, 3, 5, 3, 2, 2, 0, 4,\n",
       "       0, 0, 1, 1, 0, 4, 5, 5, 5, 1, 0, 4, 4, 5, 4, 2, 4, 0, 5, 2, 2, 4,\n",
       "       4, 0, 5, 3, 5, 1, 0, 0, 5, 2, 3, 0, 0, 5, 4, 5, 4, 2, 2, 1, 4, 5,\n",
       "       1, 5, 5, 0, 1, 5, 0, 3, 4, 0, 0, 4])"
      ]
     },
     "execution_count": 25,
     "metadata": {},
     "output_type": "execute_result"
    }
   ],
   "source": [
    "ypred"
   ]
  },
  {
   "cell_type": "markdown",
   "id": "7594d627",
   "metadata": {},
   "source": [
    "# Prediction System"
   ]
  },
  {
   "cell_type": "code",
   "execution_count": 26,
   "id": "716d3471",
   "metadata": {},
   "outputs": [],
   "source": [
    "import pickle\n",
    "pickle.dump(tfidf,open('tfidf.pkl','wb'))\n",
    "pickle.dump(clf, open('clf.pkl', 'wb'))\n"
   ]
  },
  {
   "cell_type": "code",
   "execution_count": 27,
   "id": "06b1805c",
   "metadata": {},
   "outputs": [],
   "source": [
    "myresume = \"\"\"I am a data scientist specializing in machine\n",
    "learning, deep learning, and computer vision. With\n",
    "a strong background in mathematics, statistics,\n",
    "and programming, I am passionate about\n",
    "uncovering hidden patterns and insights in data.\n",
    "I have extensive experience in developing\n",
    "predictive models, implementing deep learning\n",
    "algorithms, and designing computer vision\n",
    "systems. My technical skills include proficiency in\n",
    "Python, Sklearn, TensorFlow, and PyTorch.\n",
    "What sets me apart is my ability to effectively\n",
    "communicate complex concepts to diverse\n",
    "audiences. I excel in translating technical insights\n",
    "into actionable recommendations that drive\n",
    "informed decision-making.\n",
    "If you're looking for a dedicated and versatile data\n",
    "scientist to collaborate on impactful projects, I am\n",
    "eager to contribute my expertise. Let's harness the\n",
    "power of data together to unlock new possibilities\n",
    "and shape a better future.\n",
    "Contact & Sources\n",
    "Email: 611noorsaeed@gmail.com\n",
    "Phone: 03442826192\n",
    "Github: https://github.com/611noorsaeed\n",
    "Linkdin: https://www.linkedin.com/in/noor-saeed654a23263/\n",
    "Blogs: https://medium.com/@611noorsaeed\n",
    "Youtube: Artificial Intelligence\n",
    "ABOUT ME\n",
    "WORK EXPERIENCE\n",
    "SKILLES\n",
    "NOOR SAEED\n",
    "LANGUAGES\n",
    "English\n",
    "Urdu\n",
    "Hindi\n",
    "I am a versatile data scientist with expertise in a wide\n",
    "range of projects, including machine learning,\n",
    "recommendation systems, deep learning, and computer\n",
    "vision. Throughout my career, I have successfully\n",
    "developed and deployed various machine learning models\n",
    "to solve complex problems and drive data-driven\n",
    "decision-making\n",
    "Machine Learnine\n",
    "Deep Learning\n",
    "Computer Vision\n",
    "Recommendation Systems\n",
    "Data Visualization\n",
    "Programming Languages (Python, SQL)\n",
    "Data Preprocessing and Feature Engineering\n",
    "Model Evaluation and Deployment\n",
    "Statistical Analysis\n",
    "Communication and Collaboration\n",
    "\"\"\""
   ]
  },
  {
   "cell_type": "code",
   "execution_count": 29,
   "id": "6ccfb164",
   "metadata": {},
   "outputs": [
    {
     "name": "stdout",
     "output_type": "stream",
     "text": [
      "Predicted Category: Blockchain\n",
      "3\n"
     ]
    }
   ],
   "source": [
    "import pickle\n",
    "\n",
    "# Load the trained classifier\n",
    "clf = pickle.load(open('clf.pkl', 'rb'))\n",
    "\n",
    "# Clean the input resume\n",
    "cleaned_resume = cleanResume(myresume)\n",
    "\n",
    "# Transform the cleaned resume using the trained TfidfVectorizer\n",
    "input_features = tfidf.transform([cleaned_resume])\n",
    "\n",
    "# Make the prediction using the loaded classifier\n",
    "prediction_id = clf.predict(input_features)[0]\n",
    "\n",
    "# Map category ID to category name\n",
    "category_mapping = {\n",
    "    15: \"Java Developer\",\n",
    "    23: \"Testing\",\n",
    "    8: \"DevOps Engineer\",\n",
    "    20: \"Python Developer\",\n",
    "    24: \"Web Designing\",\n",
    "    12: \"HR\",\n",
    "    13: \"Python Developer\",\n",
    "    3: \"Blockchain\",\n",
    "    10: \"ETL Developer\",\n",
    "    18: \"Operations Manager\",\n",
    "    6: \"Data Science\",\n",
    "    22: \"Sales\",\n",
    "    16: \"Mechanical Engineer\",\n",
    "    1: \"Administration\",\n",
    "    7: \"Database\",\n",
    "    11: \"Electrical Engineering\",\n",
    "    14: \"Health and fitness\",\n",
    "    19: \"PMO\",\n",
    "    4: \"Business Analyst\",\n",
    "    9: \"DotNet Developer\",\n",
    "    2: \"Automation Testing\",\n",
    "    17: \"Network Security Engineer\",\n",
    "    21: \"SAP Developer\",\n",
    "    5: \"Machine Learning Engineer\",\n",
    "    0: \"Advocate\",\n",
    "}\n",
    "\n",
    "category_name = category_mapping.get(prediction_id, \"Unknown\")\n",
    "\n",
    "print(\"Predicted Category:\", category_name)\n",
    "print(prediction_id)\n"
   ]
  },
  {
   "cell_type": "code",
   "execution_count": 30,
   "id": "94f2f88f",
   "metadata": {},
   "outputs": [],
   "source": [
    "import PyPDF2"
   ]
  },
  {
   "cell_type": "code",
   "execution_count": 31,
   "id": "a91513db",
   "metadata": {},
   "outputs": [],
   "source": [
    "def pdfextract(pdf_file):\n",
    "    fileReader = PyPDF2.PdfReader(open(pdf_file,'rb'))\n",
    "    countpage = len(fileReader.pages)\n",
    "    count = 0\n",
    "    txt = []\n",
    "    while count < countpage:\n",
    "        pageObj = fileReader.pages[count]\n",
    "        count +=1\n",
    "        t = pageObj.extract_text()\n",
    "        txt.append(t)\n",
    "    return txt\n",
    "\n",
    "pdf_file = './Aasma_Aas_Muhammad___DataScience.pdf'\n",
    "pdfextract(pdf_file)\n",
    "\n",
    "pdf_text = pdfextract(pdf_file)\n",
    "pdf_text = \" \".join(pdf_text)\n",
    "\n",
    "# def cleanResume(txt):\n",
    "#     cleanText = re.sub('http\\S+\\s', ' ', txt)\n",
    "#     cleanText = re.sub('RT|cc', ' ', cleanText)\n",
    "#     cleanText = re.sub('#\\S+\\s', ' ', cleanText)\n",
    "#     cleanText = re.sub('@\\S+', '  ', cleanText)  \n",
    "#     cleanText = re.sub('[%s]' % re.escape(\"\"\"!\"#$%&'()*+,-./:;<=>?@[\\]^_`{|}~\"\"\"), ' ', cleanText)\n",
    "#     cleanText = re.sub(r'[^\\x00-\\x7f]', ' ', cleanText) \n",
    "#     cleanText = re.sub('\\s+', ' ', cleanText)\n",
    "#     return cleanText\n",
    "\n",
    "# # Clean the input resume\n",
    "# cleaned_resume = cleanResume(pdf_text)\n",
    "# print('cleaned_resume=========', cleaned_resume)\n"
   ]
  },
  {
   "cell_type": "code",
   "execution_count": 32,
   "id": "1945288c",
   "metadata": {},
   "outputs": [
    {
     "name": "stdout",
     "output_type": "stream",
     "text": [
      "Predicted Category: Civil Engineer\n",
      "5\n"
     ]
    }
   ],
   "source": [
    "import pickle\n",
    "\n",
    "# Load the trained classifier\n",
    "clf = pickle.load(open('clf.pkl', 'rb'))\n",
    "\n",
    "# Clean the input resume\n",
    "cleaned_resume = cleanResume(pdf_text)\n",
    "\n",
    "# Transform the cleaned resume using the trained TfidfVectorizer\n",
    "input_features = tfidf.transform([cleaned_resume])\n",
    "\n",
    "# Make the prediction using the loaded classifier\n",
    "prediction_id = clf.predict(input_features)[0]\n",
    "\n",
    "# Map category ID to category name\n",
    "category_mapping = {\n",
    "    15: \"Java Developer\",\n",
    "    23: \"Testing\",\n",
    "    8: \"DevOps Engineer\",\n",
    "    20: \"Python Developer\",\n",
    "    24: \"Web Designing\",\n",
    "    12: \"HR\",\n",
    "    13: \"Hadoop\",\n",
    "    3: \"Blockchain\",\n",
    "    10: \"ETL Developer\",\n",
    "    18: \"Operations Manager\",\n",
    "    6: \"Data Science\",\n",
    "    22: \"Sales\",\n",
    "    16: \"Mechanical Engineer\",\n",
    "    1: \"Arts\",\n",
    "    7: \"Database\",\n",
    "    11: \"Electrical Engineering\",\n",
    "    14: \"Health and fitness\",\n",
    "    19: \"PMO\",\n",
    "    4: \"Business Analyst\",\n",
    "    9: \"DotNet Developer\",\n",
    "    2: \"Automation Testing\",\n",
    "    17: \"Network Security Engineer\",\n",
    "    21: \"SAP Developer\",\n",
    "    5: \"Civil Engineer\",\n",
    "    0: \"Advocate\",\n",
    "}\n",
    "\n",
    "category_name = category_mapping.get(prediction_id, \"Unknown\")\n",
    "\n",
    "print(\"Predicted Category:\", category_name)\n",
    "print(prediction_id)\n"
   ]
  },
  {
   "cell_type": "code",
   "execution_count": null,
   "id": "d69de336",
   "metadata": {},
   "outputs": [],
   "source": [
    "import streamlit as st\n",
    "import pickle\n",
    "import re\n",
    "import nltk\n",
    "import PyPDF2\n",
    "\n",
    "nltk.download('punkt')\n",
    "nltk.download('stopwords')\n",
    "import pickle, re, os\n",
    "import PyPDF2\n",
    "from sklearn.feature_extraction.text import TfidfVectorizer\n",
    "#loading models\n",
    "# Load the trained classifier\n",
    "clf = pickle.load(open('clf.pkl', 'rb'))\n",
    "\n",
    "def parse_resume(text_pdf):\n",
    "    def clean_resume(resume_text):\n",
    "        clean_text = re.sub('http\\S+\\s*', ' ', resume_text)\n",
    "        clean_text = re.sub('RT|cc', ' ', clean_text)\n",
    "        clean_text = re.sub('#\\S+', '', clean_text)\n",
    "        clean_text = re.sub('@\\S+', '  ', clean_text)\n",
    "        clean_text = re.sub('[%s]' % re.escape(\"\"\"!\"#$%&'()*+,-./:;<=>?@[\\]^_`{|}~\"\"\"), ' ', clean_text)\n",
    "        clean_text = re.sub(r'[^\\x00-\\x7f]', r' ', clean_text)\n",
    "        clean_text = re.sub('\\s+', ' ', clean_text)\n",
    "        return clean_text\n",
    "    \n",
    "    cleaned_resume = clean_resume(text_pdf)\n",
    "    input_features = tfidfd.transform([cleaned_resume])\n",
    "    prediction_id = clf.predict(input_features)[0]\n",
    "    category_mapping = {\n",
    "            15: \"Java Developer\",\n",
    "            23: \"Testing\",\n",
    "            8: \"DevOps Engineer\",\n",
    "            20: \"Python Developer\",\n",
    "            24: \"Web Designing\",\n",
    "            12: \"HR\",\n",
    "            13: \"Hadoop\",\n",
    "            3: \"Blockchain\",\n",
    "            10: \"ETL Developer\",\n",
    "            18: \"Operations Manager\",\n",
    "            6: \"Data Science\",\n",
    "            22: \"Sales\",\n",
    "            16: \"Mechanical Engineer\",\n",
    "            1: \"Arts\",\n",
    "            7: \"Database\",\n",
    "            11: \"Electrical Engineering\",\n",
    "            14: \"Health and fitness\",\n",
    "            19: \"PMO\",\n",
    "            4: \"Business Analyst\",\n",
    "            9: \"DotNet Developer\",\n",
    "            2: \"Automation Testing\",\n",
    "            17: \"Network Security Engineer\",\n",
    "            21: \"SAP Developer\",\n",
    "            5: \"Civil Engineer\",\n",
    "            0: \"Advocate\",\n",
    "        }\n",
    "    category_name = category_mapping.get(prediction_id, \"Unknown\")\n",
    "    return category_name"
   ]
  }
 ],
 "metadata": {
  "kernelspec": {
   "display_name": "Python 3 (ipykernel)",
   "language": "python",
   "name": "python3"
  },
  "language_info": {
   "codemirror_mode": {
    "name": "ipython",
    "version": 3
   },
   "file_extension": ".py",
   "mimetype": "text/x-python",
   "name": "python",
   "nbconvert_exporter": "python",
   "pygments_lexer": "ipython3",
   "version": "3.8.6"
  }
 },
 "nbformat": 4,
 "nbformat_minor": 5
}
